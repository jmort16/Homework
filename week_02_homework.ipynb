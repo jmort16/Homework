{
 "cells": [
  {
   "cell_type": "markdown",
   "metadata": {},
   "source": [
    "### Homework Week 02\n",
    "#### Loops, Functions and Classes\n",
    "1. Do this homework **in order**. \n",
    "2. Be sure to have a solid understanding of Functions before working with Classes. "
   ]
  },
  {
   "cell_type": "markdown",
   "metadata": {},
   "source": [
    "1. Iterate through `integers_list` and `print` values that are multiples of 7."
   ]
  },
  {
   "cell_type": "code",
   "execution_count": 10,
   "metadata": {},
   "outputs": [
    {
     "name": "stdout",
     "output_type": "stream",
     "text": [
      "[623, 287, 399, 854, 434]\n"
     ]
    }
   ],
   "source": [
    "import random\n",
    "integers_list = [random.randint(0,1000) for i in range(50)] # a list comprehension\n",
    "\n",
    "# your code here\n",
    "mult_seven = []\n",
    "for i in integers_list:\n",
    "    if i%7 == 0:\n",
    "        mult_seven.append(i)\n",
    "\n",
    "print(mult_seven)\n"
   ]
  },
  {
   "cell_type": "markdown",
   "metadata": {},
   "source": [
    "2. Create `list` of 5 colors as `strings` which are all lowercase. \n",
    "Iterate through the `list` and capitalize each color. \n",
    "You should modify the `list` in place. "
   ]
  },
  {
   "cell_type": "code",
   "execution_count": 1,
   "metadata": {},
   "outputs": [
    {
     "name": "stdout",
     "output_type": "stream",
     "text": [
      "['CHARTREUSE', 'MAGENTA', 'TURQUOISE', 'CYAN', 'FUSCHIA']\n"
     ]
    }
   ],
   "source": [
    "color_list = ['chartreuse', 'magenta', 'turquoise', 'cyan', 'fuschia']\n",
    "\n",
    "for i in range(len(color_list)):\n",
    "    color_list[i] = color_list[i].upper()\n",
    "\n",
    "print(color_list)"
   ]
  },
  {
   "cell_type": "markdown",
   "metadata": {},
   "source": [
    "3. Loop through the string and eliminate all the asterisks."
   ]
  },
  {
   "cell_type": "code",
   "execution_count": 9,
   "metadata": {},
   "outputs": [
    {
     "name": "stdout",
     "output_type": "stream",
     "text": [
      "My computer has gone crazy and added extra symbols.\n"
     ]
    }
   ],
   "source": [
    "asterisk = 'My *compu*ter has go*ne craz***y an*d add*ed extra *symbols.*'\n",
    "# your code here\n",
    "print(asterisk.replace('*', ''))"
   ]
  },
  {
   "cell_type": "markdown",
   "metadata": {},
   "source": [
    "4. Write a `while` loop that increments `counter` until it reaches 7."
   ]
  },
  {
   "cell_type": "code",
   "execution_count": 12,
   "metadata": {},
   "outputs": [
    {
     "name": "stdout",
     "output_type": "stream",
     "text": [
      "1\n",
      "2\n",
      "3\n",
      "4\n",
      "5\n",
      "6\n",
      "7\n"
     ]
    }
   ],
   "source": [
    "counter = 0\n",
    "# your code here\n",
    "while counter < 7:\n",
    "    counter = counter + 1\n",
    "    print(counter)"
   ]
  },
  {
   "cell_type": "markdown",
   "metadata": {},
   "source": [
    "5. Loop over `double_trouble` and eliminate any 'mosquito'."
   ]
  },
  {
   "cell_type": "code",
   "execution_count": 2,
   "metadata": {},
   "outputs": [
    {
     "name": "stdout",
     "output_type": "stream",
     "text": [
      "None\n"
     ]
    }
   ],
   "source": [
    "double_trouble = ['cat', 'dog', ['mouse','mosquito','bat','mosquito'],['elephant','dog','whale','lion',32,'mosquito'],'bird',[],'mosquito']\n",
    "# your code here\n",
    "double_trouble = double_trouble.remove('mosquito')\n",
    "print(double_trouble)"
   ]
  },
  {
   "cell_type": "markdown",
   "metadata": {},
   "source": [
    "6. Loop through the dictionary of phone numbers and correct the parentheses. "
   ]
  },
  {
   "cell_type": "code",
   "execution_count": 11,
   "metadata": {},
   "outputs": [
    {
     "ename": "ValueError",
     "evalue": "dictionary update sequence element #0 has length 1; 2 is required",
     "output_type": "error",
     "traceback": [
      "\u001b[1;31m---------------------------------------------------------------------------\u001b[0m",
      "\u001b[1;31mValueError\u001b[0m                                Traceback (most recent call last)",
      "\u001b[1;32mC:\\Users\\JMORTE~1\\AppData\\Local\\Temp/ipykernel_12980/3249498989.py\u001b[0m in \u001b[0;36m<module>\u001b[1;34m\u001b[0m\n\u001b[0;32m      7\u001b[0m \u001b[1;33m\u001b[0m\u001b[0m\n\u001b[0;32m      8\u001b[0m \u001b[1;32mfor\u001b[0m \u001b[0mname\u001b[0m\u001b[1;33m,\u001b[0m\u001b[0mnumber\u001b[0m \u001b[1;32min\u001b[0m \u001b[0mphone_numbers\u001b[0m\u001b[1;33m.\u001b[0m\u001b[0mitems\u001b[0m\u001b[1;33m(\u001b[0m\u001b[1;33m)\u001b[0m\u001b[1;33m:\u001b[0m\u001b[1;33m\u001b[0m\u001b[1;33m\u001b[0m\u001b[0m\n\u001b[1;32m----> 9\u001b[1;33m     \u001b[0mnew_phone_numbers\u001b[0m\u001b[1;33m.\u001b[0m\u001b[0mupdate\u001b[0m\u001b[1;33m(\u001b[0m\u001b[0mnumber\u001b[0m\u001b[1;33m.\u001b[0m\u001b[0mreplace\u001b[0m\u001b[1;33m(\u001b[0m\u001b[1;34m'( '\u001b[0m\u001b[1;33m,\u001b[0m\u001b[1;34m') '\u001b[0m\u001b[1;33m)\u001b[0m\u001b[1;33m)\u001b[0m\u001b[1;33m\u001b[0m\u001b[1;33m\u001b[0m\u001b[0m\n\u001b[0m\u001b[0;32m     10\u001b[0m     \u001b[0mnew_phone_numbers\u001b[0m\u001b[1;33m.\u001b[0m\u001b[0mupdate\u001b[0m\u001b[1;33m(\u001b[0m\u001b[0mnumber\u001b[0m\u001b[1;33m.\u001b[0m\u001b[0mreplace\u001b[0m\u001b[1;33m(\u001b[0m\u001b[1;34m' )'\u001b[0m\u001b[1;33m,\u001b[0m\u001b[1;34m' ('\u001b[0m\u001b[1;33m)\u001b[0m\u001b[1;33m)\u001b[0m\u001b[1;33m\u001b[0m\u001b[1;33m\u001b[0m\u001b[0m\n\u001b[0;32m     11\u001b[0m \u001b[1;33m\u001b[0m\u001b[0m\n",
      "\u001b[1;31mValueError\u001b[0m: dictionary update sequence element #0 has length 1; 2 is required"
     ]
    }
   ],
   "source": [
    "phone_numbers = {'Jill':'1-)555(-567-8910',\n",
    "                'Jen':'1-)555(-567-8910',\n",
    "                'Jan':'1-)555(-567-8910',\n",
    "                'Jane':'1-)555(-567-8910',\n",
    "                'Jerri':'1-)555(-567-8910'}\n",
    "new_phone_numbers = {}\n",
    "\n",
    "for name,number in phone_numbers.items():\n",
    "    new_phone_numbers.update(number.replace('(',')'))\n",
    "    new_phone_numbers.update(number.replace(')','('))\n",
    "        \n",
    "print(new_phone_numbers)\n",
    "\n",
    "#...hmmm....finishing later...Don't tell me!  ;)"
   ]
  },
  {
   "cell_type": "markdown",
   "metadata": {},
   "source": [
    "7. Create a function that takes in two numbers.\n",
    "\n",
    "If the numbers are both even add them and `return` the result.\n",
    "\n",
    "If the numbers are odd, subtract the second number from the first and `return` the result.\n",
    "\n",
    "(Assume you'll always get integers)"
   ]
  },
  {
   "cell_type": "code",
   "execution_count": 15,
   "metadata": {},
   "outputs": [
    {
     "name": "stdout",
     "output_type": "stream",
     "text": [
      "Sorry, Charlie!\n"
     ]
    }
   ],
   "source": [
    "def even_or_odd(a,b):\n",
    "    if a%2==0 and b%2==0:\n",
    "        return(a+b)\n",
    "    elif a%2==1 and b%2==1:\n",
    "        return(a-b)\n",
    "    else:\n",
    "        print('Sorry, Charlie!')\n",
    "        \n",
    "\n",
    "even_or_odd(3,10)"
   ]
  },
  {
   "cell_type": "markdown",
   "metadata": {},
   "source": [
    "8. Create a function that takes in a `string` and removes all non-alphanumeric characters."
   ]
  },
  {
   "cell_type": "code",
   "execution_count": null,
   "metadata": {},
   "outputs": [],
   "source": [
    "def non_alpha():\n",
    "    for l in len(str(non_alpha)):\n",
    "        if isalnum(l)==false:\n",
    "\n",
    "# ...still trying to figure this one out...    "
   ]
  },
  {
   "cell_type": "code",
   "execution_count": null,
   "metadata": {},
   "outputs": [],
   "source": [
    "character(\"this string has %^&! some weird values02\")"
   ]
  },
  {
   "cell_type": "markdown",
   "metadata": {},
   "source": [
    "9. Create a function to convert Celsius to Farenheight and print the result. \n",
    "\n",
    "Bonus(Optional): Include the degree symbol in the output."
   ]
  },
  {
   "cell_type": "code",
   "execution_count": 19,
   "metadata": {},
   "outputs": [
    {
     "name": "stdout",
     "output_type": "stream",
     "text": [
      "212.0 °\n"
     ]
    }
   ],
   "source": [
    "def convert_temp(c):\n",
    "    print(1.8*c + 32, '°')\n",
    "\n",
    "\n",
    "convert_temp(100)\n",
    "    "
   ]
  },
  {
   "cell_type": "markdown",
   "metadata": {},
   "source": [
    "10. Create a function that prints the fibonacci sequence from 0 to 25. "
   ]
  },
  {
   "cell_type": "code",
   "execution_count": 51,
   "metadata": {},
   "outputs": [
    {
     "name": "stdout",
     "output_type": "stream",
     "text": [
      "1\n",
      "1\n",
      "2\n",
      "3\n",
      "5\n",
      "8\n",
      "13\n",
      "21\n"
     ]
    }
   ],
   "source": [
    "def fib():\n",
    "    fibber_a = 0\n",
    "    fibber_b = 1 \n",
    "    fibber_c = 1\n",
    "    print(fibber_c)\n",
    "    for x in range(0, 25):\n",
    "        if fibber_c<26:\n",
    "            print(fibber_c)\n",
    "            fibber_a=fibber_b\n",
    "            fibber_b=fibber_c\n",
    "            fibber_c=fibber_a+fibber_b        \n",
    "        else:\n",
    "            x=26\n",
    "        \n",
    "fib()"
   ]
  },
  {
   "cell_type": "markdown",
   "metadata": {},
   "source": [
    "11. Create two functions. One function that accepts args `a` and `b` and returns `a + b`. \n",
    "\n",
    "Create a second function that accepts the first function as the 3rd argument as well as a and b.\n"
   ]
  },
  {
   "cell_type": "code",
   "execution_count": 1,
   "metadata": {},
   "outputs": [
    {
     "ename": "SyntaxError",
     "evalue": "invalid syntax (Temp/ipykernel_22136/2432352106.py, line 2)",
     "output_type": "error",
     "traceback": [
      "\u001b[1;36m  File \u001b[1;32m\"C:\\Users\\JMORTE~1\\AppData\\Local\\Temp/ipykernel_22136/2432352106.py\"\u001b[1;36m, line \u001b[1;32m2\u001b[0m\n\u001b[1;33m    def first[a,b]:\u001b[0m\n\u001b[1;37m             ^\u001b[0m\n\u001b[1;31mSyntaxError\u001b[0m\u001b[1;31m:\u001b[0m invalid syntax\n"
     ]
    }
   ],
   "source": [
    "# you do the first function\n",
    "def first(a,b):\n",
    "    c=a+b\n",
    "    print(c)\n",
    "\n",
    "# second function\n",
    "def second(a,b,first(a,b):\n",
    "    print(a,', ',b,', ',first[a,b])\n",
    "    \n",
    "# Am I supposed to have the second function recall the VALUE from the first function when a and b are input?  \n",
    "# I'm a little confused as to what this second function is supposed to be doing.  \n",
    "# When I figure out how to accept the first function as the third argument as well as a and b, \n",
    "# what does the second function DO with those input values?"
   ]
  },
  {
   "cell_type": "code",
   "execution_count": 52,
   "metadata": {},
   "outputs": [
    {
     "name": "stdout",
     "output_type": "stream",
     "text": [
      "12\n"
     ]
    },
    {
     "ename": "NameError",
     "evalue": "name 'a' is not defined",
     "output_type": "error",
     "traceback": [
      "\u001b[1;31m---------------------------------------------------------------------------\u001b[0m",
      "\u001b[1;31mNameError\u001b[0m                                 Traceback (most recent call last)",
      "\u001b[1;32mC:\\Users\\JMORTE~1\\AppData\\Local\\Temp/ipykernel_12980/1695017002.py\u001b[0m in \u001b[0;36m<module>\u001b[1;34m\u001b[0m\n\u001b[0;32m      1\u001b[0m \u001b[0mfirst\u001b[0m\u001b[1;33m(\u001b[0m\u001b[1;36m9\u001b[0m\u001b[1;33m,\u001b[0m\u001b[1;36m3\u001b[0m\u001b[1;33m)\u001b[0m\u001b[1;33m\u001b[0m\u001b[1;33m\u001b[0m\u001b[0m\n\u001b[1;32m----> 2\u001b[1;33m \u001b[0msecond\u001b[0m\u001b[1;33m(\u001b[0m\u001b[0ma\u001b[0m\u001b[1;33m,\u001b[0m\u001b[0mb\u001b[0m\u001b[1;33m,\u001b[0m\u001b[0mfirst\u001b[0m\u001b[1;33m)\u001b[0m\u001b[1;33m\u001b[0m\u001b[1;33m\u001b[0m\u001b[0m\n\u001b[0m",
      "\u001b[1;31mNameError\u001b[0m: name 'a' is not defined"
     ]
    }
   ],
   "source": [
    "first(9,3)\n",
    "second(a,b,first)"
   ]
  },
  {
   "cell_type": "markdown",
   "metadata": {},
   "source": [
    "12. Create a function that prints prime number from 0 to 100. "
   ]
  },
  {
   "cell_type": "code",
   "execution_count": 10,
   "metadata": {},
   "outputs": [
    {
     "ename": "SyntaxError",
     "evalue": "unexpected EOF while parsing (Temp/ipykernel_22136/902952205.py, line 12)",
     "output_type": "error",
     "traceback": [
      "\u001b[1;36m  File \u001b[1;32m\"C:\\Users\\JMORTE~1\\AppData\\Local\\Temp/ipykernel_22136/902952205.py\"\u001b[1;36m, line \u001b[1;32m12\u001b[0m\n\u001b[1;33m    #primo()\u001b[0m\n\u001b[1;37m             ^\u001b[0m\n\u001b[1;31mSyntaxError\u001b[0m\u001b[1;31m:\u001b[0m unexpected EOF while parsing\n"
     ]
    }
   ],
   "source": [
    "def generate_list(a,b):\n",
    "    return(list(range(a, b+1))\n",
    "\n",
    "#def primo():\n",
    "    #check_list = generate_list(0,100)\n",
    "    #print(check_list)\n",
    "    #previous = 2\n",
    "    #for i in range(0,100):\n",
    "        #if i%2 == 0:\n",
    "           #check_list = check_list.replace(i,0) \n",
    "        \n",
    "#primo() "
   ]
  },
  {
   "cell_type": "markdown",
   "metadata": {},
   "source": [
    "13. Now's your chance to show off. Create a function that does something that has not already been done in the homework. Get creative. "
   ]
  },
  {
   "cell_type": "code",
   "execution_count": null,
   "metadata": {},
   "outputs": [],
   "source": []
  },
  {
   "cell_type": "markdown",
   "metadata": {},
   "source": [
    "14. Add an attribute called `age` to the `__init__` method of the `Person` class.\n",
    "\n",
    "Create an instance of `Person()` and print the `age`."
   ]
  },
  {
   "cell_type": "code",
   "execution_count": null,
   "metadata": {},
   "outputs": [],
   "source": [
    "class Person():\n",
    "    \n",
    "    def __init__(self, name, occupation, country, age):\n",
    "        self.name = name\n",
    "        self.occupation = occupation\n",
    "        self.country = country\n",
    "        # you attribute goes here\n",
    "        self.age = age\n",
    "    "
   ]
  },
  {
   "cell_type": "markdown",
   "metadata": {},
   "source": [
    "15. Creat an instance of the class `Candy`. \n",
    "\n",
    "Add an attribute called `cost` on your instance. (Don't modify the class starter code.)\n",
    "\n",
    "Print the instance's `cost` attribute.\n",
    "\n",
    "Bonus(optional): Add a function of your choice to the instance. "
   ]
  },
  {
   "cell_type": "code",
   "execution_count": null,
   "metadata": {},
   "outputs": [],
   "source": [
    "class Candy():\n",
    "    \n",
    "    def __init__(self, kind='chocolate', brand= 'Nestle', caramel = False):\n",
    "        self.type = kind\n",
    "        self.brand = brand\n",
    "        self.caramel = caramel\n",
    "    \n",
    "        "
   ]
  },
  {
   "cell_type": "code",
   "execution_count": null,
   "metadata": {},
   "outputs": [],
   "source": []
  },
  {
   "cell_type": "markdown",
   "metadata": {},
   "source": [
    "16. Add an instance method to our class `Greet` that prints a greeting including `greeting` and the `name`. \n",
    "\n",
    "Example:\n",
    "\n",
    "`jen = Greet()`\n",
    "\n",
    "`jen.greet_method()` returns `\"Hello Jennifer\"`\n"
   ]
  },
  {
   "cell_type": "code",
   "execution_count": null,
   "metadata": {},
   "outputs": [],
   "source": [
    "class Greet():\n",
    "    \n",
    "    def __init__(self, name='Jennifer', language='english', greeting=\"Hello\"):\n",
    "        \n",
    "        self.language = language\n",
    "        self.greeting = gretting\n",
    "        self.name = name\n",
    "        \n",
    "    # Your method here\n",
    "        "
   ]
  },
  {
   "cell_type": "markdown",
   "metadata": {},
   "source": [
    "17. Add a line to the follwing code that will increment `employee_count` by 1 for **all** instances of `Employee`.\n",
    "\n",
    "The code should run each time an new instance of`Employee` is created. \n",
    "\n",
    "Hint: You don't need methods. Just a single expression will work. And it does NOT inlcude the word `self`. "
   ]
  },
  {
   "cell_type": "code",
   "execution_count": null,
   "metadata": {},
   "outputs": [],
   "source": [
    "class Employee():\n",
    "    \n",
    "    # class variables. Applies to all instances of this class during creation.\n",
    "    yearly_bonus = 1.01 # not used anywhere in this example\n",
    "    \n",
    "    employee_count = 0 # This variable will change for all instances of the class.\n",
    "    \n",
    "       \n",
    "    def __init__(self,name, age, base_pay): # creates an instance of our object with unique attributes\n",
    "        \n",
    "        self.name = name\n",
    "        self.age = age\n",
    "        self.base_pay = base_pay\n",
    "        \n",
    "        \n",
    "        # your code here inside the __init__ method. \n",
    "        \n",
    "        \n",
    "emp1 = Employee('Matt', 32,40000)\n",
    "print(emp1.employee_count) # should be 1 if the __init__ method is working properly. \n",
    "\n",
    "emp2 = emp1 = Employee('Joe', 22,50000) # should be 2 if the __init__ method is working properly. \n",
    "print(emp2.employee_count)\n",
    "\n"
   ]
  },
  {
   "cell_type": "markdown",
   "metadata": {},
   "source": [
    "18 . Add a `static` method of your choice to the class below. \n",
    "\n",
    "Instaiate an object and call your method. \n",
    "\n",
    "What is a static method anyway? \n"
   ]
  },
  {
   "cell_type": "code",
   "execution_count": null,
   "metadata": {},
   "outputs": [],
   "source": [
    "class actress():\n",
    "    def __init__(self, name = 'Meryl Streep'):\n",
    "        self.name = name\n",
    "        \n",
    "    def act(self, line):\n",
    "        print(f'{self.name}: {line}')\n",
    "        \n",
    "    # your static method goes here.\n",
    "        \n",
    "meryl = actress()\n",
    "meryl.act('This is my line...')"
   ]
  },
  {
   "cell_type": "code",
   "execution_count": null,
   "metadata": {},
   "outputs": [],
   "source": []
  },
  {
   "cell_type": "markdown",
   "metadata": {},
   "source": [
    "19. Create a `class` called Car that accepts 3 attributes (make, model and year). \n",
    "\n",
    "In the `__init__` method give your instance those three attributes. \n",
    "\n",
    "Instantiate (create) an object that is your dream car. \n",
    "\n",
    "Print the make of your dream car using the object attributes. \n",
    "\n",
    "Then call the dir() method on your new object. (See your attrs are now included!)"
   ]
  },
  {
   "cell_type": "code",
   "execution_count": null,
   "metadata": {},
   "outputs": [],
   "source": []
  },
  {
   "cell_type": "markdown",
   "metadata": {},
   "source": [
    "20. Create a class called `Dice` that accepts a single argument called `number_of_dice`. \n",
    "\n",
    "Create an instance method called `roll`. \n",
    "\n",
    "`roll` should randomly pick a number for each die when called and print the results as a list. \n",
    "\n",
    "Create an instance of `Dice`. Then call `roll()` on your instance.\n",
    "\n",
    "Hint: Inside your class create an empty list called `dice`."
   ]
  },
  {
   "cell_type": "code",
   "execution_count": null,
   "metadata": {},
   "outputs": [],
   "source": [
    "# Helpful starter code\n",
    "from random import randrange\n",
    "\n",
    "print(randrange(1,7)) # randomly generates a number between 1 and 6"
   ]
  },
  {
   "cell_type": "code",
   "execution_count": null,
   "metadata": {},
   "outputs": [],
   "source": []
  },
  {
   "cell_type": "markdown",
   "metadata": {},
   "source": [
    "Bonus(optional):\n",
    "\n",
    "0. Create a class of your choice.\n",
    "1. Give it instance variables and class variables. \n",
    "2. Give it a classmethod. \n",
    "3. Give it a regular method (instance method).\n",
    "4. Give it a static method. \n",
    "\n",
    "Show how each works by printing an example. "
   ]
  },
  {
   "cell_type": "code",
   "execution_count": null,
   "metadata": {},
   "outputs": [],
   "source": []
  }
 ],
 "metadata": {
  "kernelspec": {
   "display_name": "Python 3 (ipykernel)",
   "language": "python",
   "name": "python3"
  },
  "language_info": {
   "codemirror_mode": {
    "name": "ipython",
    "version": 3
   },
   "file_extension": ".py",
   "mimetype": "text/x-python",
   "name": "python",
   "nbconvert_exporter": "python",
   "pygments_lexer": "ipython3",
   "version": "3.9.7"
  }
 },
 "nbformat": 4,
 "nbformat_minor": 4
}
