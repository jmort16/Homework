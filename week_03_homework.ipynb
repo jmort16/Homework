{
 "cells": [
  {
   "cell_type": "markdown",
   "metadata": {},
   "source": [
    "### Homework 3 Numpy Arrays\n",
    "\n",
    "1. Open `cars.csv` in jupyter and look at the data. (Double click `cars.csv` to open in a new tab).\n",
    "2. We are converting each **column** into an numpy array.\n",
    "3. Notice we have text, integer and float data. \n",
    "4. Take care not to overwrite your starter code."
   ]
  },
  {
   "cell_type": "code",
   "execution_count": 2,
   "metadata": {},
   "outputs": [],
   "source": [
    "#Starter code. Do NOT modify this cell\n",
    "import pandas as pd\n",
    "import numpy as np\n",
    "\n",
    "# Read in dataset\n",
    "df = pd.read_csv('cars.csv',delimiter=';')\n",
    "\n",
    "# Convert each column to an np.array\n",
    "car = df.Car.to_numpy()\n",
    "mpg = df.MPG.to_numpy()\n",
    "cylinders = df.Cylinders.to_numpy()\n",
    "displacement = df.Displacement.to_numpy()\n",
    "horsepower = df.Horsepower.to_numpy()\n",
    "weight = df.Weight.to_numpy()\n",
    "acceleration = df.Acceleration.to_numpy()\n",
    "model = df.Model.to_numpy()\n",
    "origin = df.Origin.to_numpy()\n",
    "\n",
    "# create an array of headers\n",
    "headers = np.array(['Car', 'MPG', 'Cylinders', 'Displacement', 'Horsepower', 'Weight','Acceleration', 'Model', 'Origin'])"
   ]
  },
  {
   "cell_type": "markdown",
   "metadata": {},
   "source": [
    "1. How can you get help on `np.array`?\n",
    "\n",
    "Call `dir()` on `np.array`. \n",
    "\n",
    "Call `dir()` on `car`.\n",
    "\n",
    "Note the difference. `car` has methods and attributes we can use."
   ]
  },
  {
   "cell_type": "code",
   "execution_count": null,
   "metadata": {},
   "outputs": [],
   "source": [
    "# I can get help by using np.info(np.ndarray.dtype)\n",
    "\n",
    "dir(np.array)\n",
    "\n",
    "dir(car)"
   ]
  },
  {
   "cell_type": "markdown",
   "metadata": {},
   "source": [
    "2. What are the numpy datatypes for the `car`,`mpg`, `horsepower` and `origin` arrays? (Hint: Not `type(car)` and use `print()` to print the numpy type.)"
   ]
  },
  {
   "cell_type": "code",
   "execution_count": null,
   "metadata": {},
   "outputs": [],
   "source": [
    "car.dtype\n",
    "mpg.dtype\n",
    "horsepower.dtype\n",
    "origin.dtype\n",
    "\n",
    "# Car and origin are both 'O' datatypes(not sure what that means), and mpg and horsepower are 'float64' datatypes."
   ]
  },
  {
   "cell_type": "markdown",
   "metadata": {},
   "source": [
    "3. `numpy` is often imported as `np`. What is this action called? Why might you do this? "
   ]
  },
  {
   "cell_type": "code",
   "execution_count": null,
   "metadata": {},
   "outputs": [],
   "source": [
    "# I don't know what the action is called, but it allows you to simply type 'np' instead of numpy when calling it,  for the sake of brevity."
   ]
  },
  {
   "cell_type": "markdown",
   "metadata": {},
   "source": [
    "4. Each of the arrays (cars, mpg, cylinders, etc..) has how many dimensions? Show how to find this using code. "
   ]
  },
  {
   "cell_type": "code",
   "execution_count": null,
   "metadata": {},
   "outputs": [],
   "source": [
    "# They are all one-dimensional arrays.  Use '___.ndim' to find this information.\n",
    "\n",
    "car.ndim\n",
    "mpg.ndim\n",
    "cylinders.ndim\n",
    "displacement.ndim\n",
    "horsepower.ndim\n",
    "weight.ndim\n",
    "acceleration.ndim\n",
    "model.ndim\n",
    "origin.ndim"
   ]
  },
  {
   "cell_type": "markdown",
   "metadata": {},
   "source": [
    "5. Show how to:\n",
    "\n",
    "- multiply the `mpg` array by 12.\n",
    "- divide the `mpg` array by 3.\n",
    "- raise the `mpg` array to the power of 4.\n",
    "- take the square root of the `mpg` array."
   ]
  },
  {
   "cell_type": "code",
   "execution_count": null,
   "metadata": {
    "scrolled": true
   },
   "outputs": [],
   "source": [
    "mpg *12\n",
    "\n",
    "mpg/3\n",
    "\n",
    "mpg**4\n",
    "\n",
    "mpg**.5"
   ]
  },
  {
   "cell_type": "markdown",
   "metadata": {},
   "source": [
    "6. What is the ___ of `horsepower`?\n",
    "- sum\n",
    "- min\n",
    "- max\n",
    "- median\n",
    "- Optional: mode (May need to google help)"
   ]
  },
  {
   "cell_type": "code",
   "execution_count": null,
   "metadata": {},
   "outputs": [],
   "source": [
    "np.sum(horsepower)"
   ]
  },
  {
   "cell_type": "code",
   "execution_count": null,
   "metadata": {},
   "outputs": [],
   "source": [
    "np.min(horsepower)"
   ]
  },
  {
   "cell_type": "code",
   "execution_count": null,
   "metadata": {},
   "outputs": [],
   "source": [
    "np.max(horsepower)"
   ]
  },
  {
   "cell_type": "code",
   "execution_count": null,
   "metadata": {},
   "outputs": [],
   "source": [
    "np.median(horsepower)"
   ]
  },
  {
   "cell_type": "code",
   "execution_count": null,
   "metadata": {},
   "outputs": [],
   "source": [
    "import numpy as np\n",
    "# return a tuple showing each unique value in the array followed by the number of times it occurs\n",
    "vals,counts = np.unique(horsepower, return_counts = True)\n",
    "# Find the index number of the element with the largest number of occurrences\n",
    "index = np.argmax(counts)\n",
    "# Print the element at that index (aka the mode)\n",
    "print(vals[index])"
   ]
  },
  {
   "cell_type": "markdown",
   "metadata": {},
   "source": [
    "7. Select a subset of `acceleration`. \n",
    "\n",
    "- Select only the first 5 elements.\n",
    "- Select every other element (new selection)."
   ]
  },
  {
   "cell_type": "code",
   "execution_count": null,
   "metadata": {},
   "outputs": [],
   "source": [
    "acceleration[0:5]"
   ]
  },
  {
   "cell_type": "code",
   "execution_count": null,
   "metadata": {},
   "outputs": [],
   "source": [
    "acceleration[0:len(acceleration):2]"
   ]
  },
  {
   "cell_type": "markdown",
   "metadata": {},
   "source": [
    "8. Show how to select the number `99` in the array below. "
   ]
  },
  {
   "cell_type": "code",
   "execution_count": null,
   "metadata": {},
   "outputs": [],
   "source": [
    "select_99 = np.array([[1,2,3],\n",
    "                      [4,5,99]])\n",
    "select_99[1,2]"
   ]
  },
  {
   "cell_type": "markdown",
   "metadata": {},
   "source": [
    "9. Select the last element in each subarray (do this with one operation.)"
   ]
  },
  {
   "cell_type": "code",
   "execution_count": null,
   "metadata": {},
   "outputs": [],
   "source": [
    "select_more = np.array([[1,2,3],\n",
    "                      [4,5,6],\n",
    "                      [7,8,9]])\n",
    "# returns array([3, 6, 9])\n",
    "select_more[:,2]"
   ]
  },
  {
   "cell_type": "markdown",
   "metadata": {},
   "source": [
    "10. Use the built-in `np.lookfor()` function to search for `'log'`.\n",
    "\n",
    "Use the function you find and apply it to `mpg`."
   ]
  },
  {
   "cell_type": "code",
   "execution_count": null,
   "metadata": {},
   "outputs": [],
   "source": [
    "np.lookfor('log')"
   ]
  },
  {
   "cell_type": "code",
   "execution_count": null,
   "metadata": {},
   "outputs": [],
   "source": [
    "np.log(mpg)"
   ]
  },
  {
   "cell_type": "markdown",
   "metadata": {},
   "source": [
    "11. You your google skills to find the unique items in `origin`. (This may not have been covered in the readings.)"
   ]
  },
  {
   "cell_type": "code",
   "execution_count": null,
   "metadata": {},
   "outputs": [],
   "source": [
    "#type(origin)\n",
    "origin_test = [0,6,5,0,6,5]\n",
    "np.unique(origin_test)"
   ]
  },
  {
   "cell_type": "markdown",
   "metadata": {},
   "source": [
    "12. \n",
    "- Create a 2D array and print its shape as well as ndim. (Any shape is fine)\n",
    "\n",
    "- Create a 3D array and print its shape as well as ndim.\n",
    "\n",
    "- Create a 4D array and print its shape as well as ndim. *It's hard to visualize 4-Dimensions but numpy can do it with ease!*"
   ]
  },
  {
   "cell_type": "code",
   "execution_count": null,
   "metadata": {},
   "outputs": [],
   "source": [
    "my_twoD = np.random.rand(2,4)\n",
    "print(my_twoD)\n",
    "\n",
    "print(my_twoD.shape)\n",
    "print(my_twoD.ndim)\n",
    "\n",
    "my_threeD = np.random.rand(3,3,5)\n",
    "print(my_threeD)\n",
    "print(my_threeD.shape)\n",
    "print(my_threeD.ndim)\n",
    "\n",
    "my_fourD = np.random.rand(5,3,2,3)\n",
    "print(my_fourD)\n",
    "print(my_fourD.shape)\n",
    "print(my_fourD.ndim)"
   ]
  },
  {
   "cell_type": "markdown",
   "metadata": {},
   "source": [
    "13.Use boolean indexing to create an array of `True/False` using `origin` and the value 'US'."
   ]
  },
  {
   "cell_type": "code",
   "execution_count": 7,
   "metadata": {
    "scrolled": true
   },
   "outputs": [
    {
     "name": "stdout",
     "output_type": "stream",
     "text": [
      "[False False False False False False False False False False  True False\n",
      " False False False False False False False False  True False False False\n",
      "  True  True  True  True  True  True False False False False False  True\n",
      " False  True False  True False False False False False False False False\n",
      " False False False False False False False False False  True  True  True\n",
      "  True  True  True False  True False  True False False False False False\n",
      " False False False False False False  True False False False False  True\n",
      "  True  True  True False  True  True False  True False False False False\n",
      " False False False False False False False False False False False False\n",
      " False  True False False False False False  True False  True  True False\n",
      " False  True False False  True  True  True  True False  True  True False\n",
      " False False False False  True False  True False False False False False\n",
      " False False False False  True  True  True  True  True False  True  True\n",
      "  True  True  True False False False False False False False False False\n",
      " False False False False False False  True False False False  True  True\n",
      "  True False  True False  True  True  True  True  True  True  True False\n",
      " False  True False False False False False False False False False False\n",
      "  True  True False False False False  True  True  True False  True False\n",
      "  True  True  True False False False False  True False  True False  True\n",
      " False False False False False False False False False False False False\n",
      "  True False  True False False False  True  True  True  True  True  True\n",
      " False  True  True  True False False False False False False False False\n",
      " False False False False False False False False False False  True  True\n",
      " False  True False False  True  True  True  True  True  True  True False\n",
      " False False False False False False False False False False False False\n",
      "  True  True False False  True False  True False False False  True  True\n",
      " False False False False  True  True False  True False False False False\n",
      "  True  True  True  True  True  True False  True  True  True  True  True\n",
      "  True  True  True  True  True  True  True False  True False False False\n",
      " False False  True False  True  True  True  True  True False False False\n",
      "  True  True  True  True  True  True  True  True  True  True  True False\n",
      " False False False False False False False False False False False  True\n",
      "  True  True False False  True  True  True  True  True  True False False\n",
      " False False  True False False False  True False False False]\n"
     ]
    }
   ],
   "source": [
    "US_Test = origin != 'US'\n",
    "print(US_Test)"
   ]
  },
  {
   "cell_type": "markdown",
   "metadata": {},
   "source": [
    "14. Apply your index (from above) to the `car` array. You should now only see cars that are of US origin. "
   ]
  },
  {
   "cell_type": "code",
   "execution_count": 8,
   "metadata": {},
   "outputs": [
    {
     "name": "stdout",
     "output_type": "stream",
     "text": [
      "['Chevrolet Chevelle Malibu' 'Buick Skylark 320' 'Plymouth Satellite'\n",
      " 'AMC Rebel SST' 'Ford Torino' 'Ford Galaxie 500' 'Chevrolet Impala'\n",
      " 'Plymouth Fury iii' 'Pontiac Catalina' 'AMC Ambassador DPL' 0\n",
      " 'Chevrolet Chevelle Concours (sw)' 'Ford Torino (sw)'\n",
      " 'Plymouth Satellite (sw)' 'AMC Rebel SST (sw)' 'Dodge Challenger SE'\n",
      " \"Plymouth 'Cuda 340\" 'Ford Mustang Boss 302' 'Chevrolet Monte Carlo'\n",
      " 'Buick Estate Wagon (sw)' 0 'Plymouth Duster' 'AMC Hornet'\n",
      " 'Ford Maverick' 0 0 0 0 0 0 'AMC Gremlin' 'Ford F250' 'Chevy C20'\n",
      " 'Dodge D200' 'Hi 1200D' 0 'Chevrolet Vega 2300' 0 'Ford Pinto' 0\n",
      " 'AMC Gremlin' 'Plymouth Satellite Custom' 'Chevrolet Chevelle Malibu'\n",
      " 'Ford Torino 500' 'AMC Matador' 'Chevrolet Impala'\n",
      " 'Pontiac Catalina Brougham' 'Ford Galaxie 500' 'Plymouth Fury iii'\n",
      " 'Dodge Monaco (sw)' 'Ford Country Squire (sw)' 'Pontiac Safari (sw)'\n",
      " 'AMC Hornet Sportabout (sw)' 'Chevrolet Vega (sw)' 'Pontiac Firebird'\n",
      " 'Ford Mustang' 'Mercury Capri 2000' 0 0 0 0 0 0 'Plymouth Cricket' 0\n",
      " 'Dodge Colt Hardtop' 0 'Chevrolet Vega' 'Ford Pinto Runabout'\n",
      " 'Chevrolet Impala' 'Pontiac Catalina' 'Plymouth Fury III'\n",
      " 'Ford Galaxie 500' 'AMC Ambassador SST' 'Mercury Marquis'\n",
      " 'Buick LeSabre Custom' 'Oldsmobile Delta 88 Royale'\n",
      " 'Chrysler Newport Royal' 0 'AMC Matador (sw)'\n",
      " 'Chevrolet Chevelle Concours (sw)' 'Ford Gran Torino (sw)'\n",
      " 'Plymouth Satellite Custom (sw)' 0 0 0 0 'Ford Pinto (sw)' 0 0\n",
      " 'Dodge Colt (sw)' 0 'Buick Century 350' 'AMC Matador' 'Chevrolet Malibu'\n",
      " 'Ford Gran Torino' 'Dodge Coronet Custom' 'Mercury Marquis Brougham'\n",
      " 'Chevrolet Caprice Classic' 'Ford LTD' 'Plymouth Fury Gran Sedan'\n",
      " 'Chrysler New Yorker Brougham' 'Buick Electra 225 Custom'\n",
      " 'AMC Ambassador Brougham' 'Plymouth Valiant' 'Chevrolet Nova Custom'\n",
      " 'AMC Hornet' 'Ford Maverick' 'Plymouth Duster' 0 'Chevrolet Impala'\n",
      " 'Ford Country' 'Plymouth Custom Suburb' 'Oldsmobile Vista Cruiser'\n",
      " 'AMC Gremlin' 0 'Chevrolet Vega' 0 0 'Ford Pinto' 'Mercury Capri v6' 0\n",
      " 'Chevrolet Monte Carlo S' 'Pontiac Grand Prix' 0 0 0 0\n",
      " 'Dodge Dart Custom' 0 0 'Oldsmobile Omega' 'Plymouth Duster'\n",
      " 'Ford Maverick' 'AMC Hornet' 'Chevrolet Nova' 0 'Ford Pinto' 0\n",
      " 'Chevrolet Vega' 'Chevrolet Chevelle Malibu Classic' 'AMC Matador'\n",
      " 'Plymouth Satellite Sebring' 'Ford Gran Torino'\n",
      " 'Buick Century Luxus (sw)' 'Dodge Coronet Custom (sw)'\n",
      " 'Ford Gran Torino (sw)' 'AMC Matador (sw)' 0 0 0 0 0 'Dodge Colt' 0 0 0 0\n",
      " 0 'Plymouth Valiant Custom' 'Chevrolet Nova' 'Mercury Monarch'\n",
      " 'Ford Maverick' 'Pontiac Catalina' 'Chevrolet Bel Air'\n",
      " 'Plymouth Grand Fury' 'Ford LTD' 'Buick Century'\n",
      " 'Chevrolete Chevelle Malibu' 'AMC Matador' 'Plymouth Fury'\n",
      " 'Buick Skyhawk' 'Chevrolet Monza 2+2' 'Ford Mustang II' 0 'Ford Pinto'\n",
      " 'AMC Gremlin' 'Pontiac Astro' 0 0 0 'Ford Pinto' 0 'AMC Pacer' 0 0 0 0 0\n",
      " 0 0 'Capri ii' 'Dodge Colt' 0 'Chevrolet Chevelle Malibu Classic'\n",
      " 'Dodge Coronet Brougham' 'AMC Matador' 'Ford Gran Torino'\n",
      " 'Plymouth Valiant' 'Chevrolet Nova' 'Ford Maverick' 'AMC Hornet'\n",
      " 'Chevrolet Chevette' 'Chevrolet Woody' 0 0 'Dodge Aspen SE'\n",
      " 'Ford Grenada ghia' 'Pontiac Ventura SJ' 'AMC Pacer d/l' 0 0 0\n",
      " 'Ford Pinto' 0 'Plymouth Volare Premier v8' 0 0 0 'Cadillac Seville'\n",
      " 'Chevrolet C10' 'Ford F108' 'Dodge D100' 0 'Buick Opel Isuzu Deluxe' 0\n",
      " 'Plymouth Arrow GS' 0 'Chevrolet Caprice Classic'\n",
      " 'Oldsmobile Cutlass Supreme' 'Dodge Monaco Brougham'\n",
      " 'Mercury Cougar Brougham' 'Chevrolet Concours' 'Buick Skylark'\n",
      " 'Plymouth Volare Custom' 'Ford Grenada' 'Pontiac Grand Prix LJ'\n",
      " 'Chevrolet Monte Carlo Landau' 'Chrysler Cordoba' 'Ford Thunderbird' 0\n",
      " 'Pontiac Sunbird Coupe' 0 'Ford Mustang II 2+2' 'Chevrolet Chevette'\n",
      " 'Dodge Colt m/m' 0 0 0 0 0 0 'Ford Fiesta' 0 0 0\n",
      " 'Oldsmobile Cutlass Salon Brougham' 'Dodge Diplomat'\n",
      " 'Mercury Monarch ghia' 'Pontiac Phoenix LJ' 'Chevrolet Malibu'\n",
      " 'Ford Fairmont (auto)' 'Ford Fairmont (man)' 'Plymouth Volare'\n",
      " 'AMC Concord' 'Buick Century Special' 'Mercury Zephyr' 'Dodge Aspen'\n",
      " 'AMC Concord d/l' 'Chevrolet Monte Carlo Landau'\n",
      " 'Buick Regal Sport Coupe (turbo)' 'Ford Futura' 'Dodge Magnum XE'\n",
      " 'Chevrolet Chevette' 0 0 'Dodge Omni' 0 'Plymouth Sapporo'\n",
      " 'Oldsmobile Starfire SX' 0 0 0 0 0 0 0 'Pontiac Lemans V6'\n",
      " 'Mercury Zephyr 6' 'Ford Fairmont 4' 'AMC Concord DL 6' 'Dodge Aspen 6'\n",
      " 'Chevrolet Caprice Classic' 'Ford LTD Landau' 'Mercury Grand Marquis'\n",
      " 'Dodge St. Regis' 'Buick Estate Wagon (sw)' 'Ford Country Squire (sw)'\n",
      " 'Chevrolet Malibu Classic (sw)' 'Chrysler Lebaron Town @ Country (sw)' 0\n",
      " 0 'Dodge Colt Hatchback Custom' 'AMC Spirit DL' 0 'Cadillac Eldorado' 0\n",
      " 'Oldsmobile Cutlass Salon Brougham' 'Plymouth Horizon'\n",
      " 'Plymouth Horizon TC3' 0 0 'Buick Skylark Limited' 'Chevrolet Citation'\n",
      " 'Oldsmobile Omega Brougham' 'Pontiac Phoenix' 0 0 'Chevrolet Chevette' 0\n",
      " 'Chevrolet Citation' 'Ford Fairmont' 'AMC Concord' 'Dodge Aspen' 0 0 0 0\n",
      " 0 0 'Dodge Colt' 0 0 0 0 0 0 0 0 0 0 0 0 'Ford Mustang Cobra' 0\n",
      " 'Plymouth Reliant' 'Buick Skylark' 'Dodge Aries Wagon (sw)'\n",
      " 'Chevrolet Citation' 'Plymouth Reliant' 0 'Plymouth Champ' 0 0 0 0 0\n",
      " 'Plymouth Horizon 4' 'Ford Escort 4W' 'Ford Escort 2H' 0 0 0 0 0 0 0 0 0\n",
      " 0 0 'Buick Century' 'Oldsmobile Cutlass LS' 'Ford Grenada gl'\n",
      " 'Chrysler Lebaron Salon' 'Chevrolet Cavalier' 'Chevrolet Cavalier Wagon'\n",
      " 'Chevrolet Cavalier 2-door' 'Pontiac J2000 SE Hatchback' 'Dodge Aries SE'\n",
      " 'Pontiac Phoenix' 'Ford Fairmont Futura' 'AMC Concord DL' 0 0 0\n",
      " 'Plymouth Horizon Miser' 'Mercury Lynx l' 0 0 0 0 0 0\n",
      " 'Buick Century Limited' 'Oldsmobile Cutlass Ciera (diesel)'\n",
      " 'Chrysler Lebaron Medallion' 'Ford Grenada l' 0 'Dodge Charger 2.2'\n",
      " 'Chevrolet Camaro' 'Ford Mustang GL' 0 'Dodge Rampage' 'Ford Ranger'\n",
      " 'Chevy S-10']\n"
     ]
    }
   ],
   "source": [
    "car[US_Test] = 0\n",
    "print(car)"
   ]
  },
  {
   "cell_type": "markdown",
   "metadata": {},
   "source": [
    "**The remaining questions are OPTIONAL**: The readings did not address all of these so you may have to use some \"Google-Fu\". "
   ]
  },
  {
   "cell_type": "markdown",
   "metadata": {},
   "source": [
    "1.What is an identity matrix? \n",
    "Create an identiy matrix of size 5 using an np method. "
   ]
  },
  {
   "cell_type": "code",
   "execution_count": null,
   "metadata": {},
   "outputs": [],
   "source": [
    "# An identity matrix, can be multiplied by any other matrix without changing it.  It contains elements that are ones along the diagonal.\n",
    "size_five = np.identity(5)\n",
    "print(size_five)"
   ]
  },
  {
   "cell_type": "raw",
   "metadata": {},
   "source": [
    "2. Transpose the following array. "
   ]
  },
  {
   "cell_type": "code",
   "execution_count": 26,
   "metadata": {},
   "outputs": [
    {
     "data": {
      "text/plain": [
       "array([[1, 4, 7],\n",
       "       [2, 5, 8],\n",
       "       [3, 6, 9]])"
      ]
     },
     "execution_count": 26,
     "metadata": {},
     "output_type": "execute_result"
    }
   ],
   "source": [
    "transpose_me = np.array([[1,2,3],\n",
    "                         [4,5,6],\n",
    "                         [7,8,9]])\n",
    "\n",
    "np.transpose(transpose_me)"
   ]
  },
  {
   "cell_type": "markdown",
   "metadata": {},
   "source": [
    "3. Why does this multiplication operation fail? "
   ]
  },
  {
   "cell_type": "code",
   "execution_count": null,
   "metadata": {},
   "outputs": [],
   "source": [
    "arr1 = np.array([[1,2,3],\n",
    "                 [4,5,6],\n",
    "                 [7,8,9]])\n",
    "arr2 = np.array([[1,2,3],\n",
    "                 [4,5,6]])\n",
    "\n",
    "arr1 * arr2"
   ]
  },
  {
   "cell_type": "code",
   "execution_count": null,
   "metadata": {},
   "outputs": [],
   "source": [
    "# The multiplication fails because the dimensions (shapes) of the two arrays differ.  "
   ]
  },
  {
   "cell_type": "markdown",
   "metadata": {},
   "source": [
    "Use numpy to answer the following questions. "
   ]
  },
  {
   "cell_type": "markdown",
   "metadata": {},
   "source": [
    "4. What is the average horsepower for `Europe` cars? (Hint: create boolean index of 'US' apply it to horsepower and perform the calculation.)"
   ]
  },
  {
   "cell_type": "code",
   "execution_count": 25,
   "metadata": {},
   "outputs": [
    {
     "ename": "IndexError",
     "evalue": "boolean index did not match indexed array along dimension 0; dimension is 335 but corresponding boolean dimension is 406",
     "output_type": "error",
     "traceback": [
      "\u001b[1;31m---------------------------------------------------------------------------\u001b[0m",
      "\u001b[1;31mIndexError\u001b[0m                                Traceback (most recent call last)",
      "\u001b[1;32mC:\\Users\\JMORTE~1\\AppData\\Local\\Temp/ipykernel_3488/3513407300.py\u001b[0m in \u001b[0;36m<module>\u001b[1;34m\u001b[0m\n\u001b[0;32m      4\u001b[0m \u001b[1;33m\u001b[0m\u001b[0m\n\u001b[0;32m      5\u001b[0m \u001b[1;31m# Replace each non-European car's horsepower with 0\u001b[0m\u001b[1;33m\u001b[0m\u001b[1;33m\u001b[0m\u001b[0m\n\u001b[1;32m----> 6\u001b[1;33m \u001b[0mhorsepower\u001b[0m\u001b[1;33m[\u001b[0m\u001b[0mHP_Test\u001b[0m\u001b[1;33m]\u001b[0m \u001b[1;33m=\u001b[0m \u001b[1;36m0\u001b[0m\u001b[1;33m\u001b[0m\u001b[1;33m\u001b[0m\u001b[0m\n\u001b[0m\u001b[0;32m      7\u001b[0m \u001b[0mprint\u001b[0m\u001b[1;33m(\u001b[0m\u001b[0mhorsepower\u001b[0m\u001b[1;33m)\u001b[0m\u001b[1;33m\u001b[0m\u001b[1;33m\u001b[0m\u001b[0m\n\u001b[0;32m      8\u001b[0m \u001b[1;33m\u001b[0m\u001b[0m\n",
      "\u001b[1;31mIndexError\u001b[0m: boolean index did not match indexed array along dimension 0; dimension is 335 but corresponding boolean dimension is 406"
     ]
    }
   ],
   "source": [
    "# Search for cars of non-European origin.\n",
    "HP_Test = origin != 'Europe'\n",
    "#print(HP_Test)\n",
    "\n",
    "# Replace each non-European car's horsepower with 0\n",
    "horsepower[HP_Test] = 0\n",
    "print(horsepower)\n",
    "\n",
    "# Remove the zeroes from the array.\n",
    "#horsepower = horsepower[horsepower != 0]\n",
    "#print(horsepower)\n",
    "\n",
    "# Calculate the mean of the remaining values.\n",
    "#np.mean(horsepower)"
   ]
  },
  {
   "cell_type": "markdown",
   "metadata": {},
   "source": [
    "5. On average are Japanse cars more fuel efficient than US cars? "
   ]
  },
  {
   "cell_type": "code",
   "execution_count": 27,
   "metadata": {},
   "outputs": [],
   "source": [
    "# I haven't had time for this, but what I would do is to use Boolean indexing to narrow down the mpg info for Japanese cars only, then I would find the mean of that data.  Next, I would do the same with US cars so that I could compare the means and answer the question.  If only I had the time....  (sigh)"
   ]
  },
  {
   "cell_type": "markdown",
   "metadata": {},
   "source": [
    "6. What is the correlation coefficient of `mpg` and `weight`? What is a correlaton coefficient?"
   ]
  },
  {
   "cell_type": "code",
   "execution_count": null,
   "metadata": {},
   "outputs": [],
   "source": [
    "CC = np.corrcoef(mpg,weight)\n",
    "\n",
    "print(CC)\n",
    "\n",
    "# The correlation coefficient is a value between -1 and 1 that shows how well (or not well) two variables correlate with one another."
   ]
  },
  {
   "cell_type": "markdown",
   "metadata": {},
   "source": [
    "7. Why might you prefer an `np.array()` over a Python `list`? And when is a Python `list` preferred? "
   ]
  },
  {
   "cell_type": "code",
   "execution_count": null,
   "metadata": {},
   "outputs": [],
   "source": [
    "# An array is faster when doing mathematical calculations, but all of its elements must be of the same type."
   ]
  },
  {
   "cell_type": "code",
   "execution_count": null,
   "metadata": {},
   "outputs": [],
   "source": [
    "# A list is preferable when the data consists of a variety of types."
   ]
  }
 ],
 "metadata": {
  "kernelspec": {
   "display_name": "Python 3 (ipykernel)",
   "language": "python",
   "name": "python3"
  },
  "language_info": {
   "codemirror_mode": {
    "name": "ipython",
    "version": 3
   },
   "file_extension": ".py",
   "mimetype": "text/x-python",
   "name": "python",
   "nbconvert_exporter": "python",
   "pygments_lexer": "ipython3",
   "version": "3.9.7"
  }
 },
 "nbformat": 4,
 "nbformat_minor": 4
}
